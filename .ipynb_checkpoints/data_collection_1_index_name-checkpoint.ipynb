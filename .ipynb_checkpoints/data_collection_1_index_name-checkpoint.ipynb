{
 "cells": [
  {
   "cell_type": "code",
   "execution_count": 138,
   "id": "c48b662b",
   "metadata": {},
   "outputs": [],
   "source": [
    "\n",
    "from selenium import webdriver\n",
    "from selenium.webdriver.common.by import By\n",
    "from selenium.webdriver.common.action_chains import ActionChains # For scrolling web page \n",
    "from selenium.webdriver.chrome.options import Options  # for suppressing the browser\n",
    "import time"
   ]
  },
  {
   "cell_type": "code",
   "execution_count": 139,
   "id": "c4043cec",
   "metadata": {},
   "outputs": [],
   "source": [
    "path = 'chromedriver.exe'"
   ]
  },
  {
   "cell_type": "code",
   "execution_count": 140,
   "id": "bdbe55f8",
   "metadata": {},
   "outputs": [],
   "source": [
    "option = webdriver.ChromeOptions()\n",
    "#option.add_argument('headless')\n",
    "driver = webdriver.Chrome(options=option)\n",
    "site=driver.get(\"https://www.digikala.com/search/?q=دوچرخه\")"
   ]
  },
  {
   "cell_type": "code",
   "execution_count": 142,
   "id": "b69d1353",
   "metadata": {},
   "outputs": [],
   "source": [
    "iframe= driver.find_element(By.CSS_SELECTOR,\".w-full.bg-000.border-t.border-n-200.pt-8.mt-12\").find_element(By.TAG_NAME,'button')"
   ]
  },
  {
   "cell_type": "code",
   "execution_count": 100,
   "id": "5b071736",
   "metadata": {},
   "outputs": [
    {
     "data": {
      "text/plain": [
       "[<selenium.webdriver.remote.webelement.WebElement (session=\"c8f5e7d4dfad799252428961866f2da9\", element=\"35f09ce7-6022-4fe9-9ece-0de9b5a960e4\")>,\n",
       " <selenium.webdriver.remote.webelement.WebElement (session=\"c8f5e7d4dfad799252428961866f2da9\", element=\"ae7bc97b-f73f-467c-94d6-efc748dd306c\")>,\n",
       " <selenium.webdriver.remote.webelement.WebElement (session=\"c8f5e7d4dfad799252428961866f2da9\", element=\"e3c9e560-8c5b-41db-b43f-dae4426b6f02\")>,\n",
       " <selenium.webdriver.remote.webelement.WebElement (session=\"c8f5e7d4dfad799252428961866f2da9\", element=\"a9d97c38-7dc9-4345-a17d-d85147939923\")>,\n",
       " <selenium.webdriver.remote.webelement.WebElement (session=\"c8f5e7d4dfad799252428961866f2da9\", element=\"7423fdcd-23c7-4f37-b6e4-89ebf4d2be3c\")>,\n",
       " <selenium.webdriver.remote.webelement.WebElement (session=\"c8f5e7d4dfad799252428961866f2da9\", element=\"18512ce0-a549-4f29-87c4-c8c138bd26ac\")>,\n",
       " <selenium.webdriver.remote.webelement.WebElement (session=\"c8f5e7d4dfad799252428961866f2da9\", element=\"1bf19821-a70e-4c5b-b9cb-2beb7f90525b\")>,\n",
       " <selenium.webdriver.remote.webelement.WebElement (session=\"c8f5e7d4dfad799252428961866f2da9\", element=\"8dddd395-5a5e-4646-b3f7-d0114e590b61\")>,\n",
       " <selenium.webdriver.remote.webelement.WebElement (session=\"c8f5e7d4dfad799252428961866f2da9\", element=\"e2453e5b-771d-438f-948b-3747e4e560e9\")>,\n",
       " <selenium.webdriver.remote.webelement.WebElement (session=\"c8f5e7d4dfad799252428961866f2da9\", element=\"187a9a57-8f09-49ee-9203-1da827fbf165\")>,\n",
       " <selenium.webdriver.remote.webelement.WebElement (session=\"c8f5e7d4dfad799252428961866f2da9\", element=\"06a78bdd-2698-4da6-aa07-831f5ab60006\")>,\n",
       " <selenium.webdriver.remote.webelement.WebElement (session=\"c8f5e7d4dfad799252428961866f2da9\", element=\"1410bfc5-ad8c-4d67-8ae1-ab14cee67e2d\")>,\n",
       " <selenium.webdriver.remote.webelement.WebElement (session=\"c8f5e7d4dfad799252428961866f2da9\", element=\"793da8db-4659-4ba1-ba0f-a5838edb6878\")>,\n",
       " <selenium.webdriver.remote.webelement.WebElement (session=\"c8f5e7d4dfad799252428961866f2da9\", element=\"b50af92b-1f40-42c0-9aec-f72137e0d814\")>,\n",
       " <selenium.webdriver.remote.webelement.WebElement (session=\"c8f5e7d4dfad799252428961866f2da9\", element=\"19916c9c-e027-45f4-b2e5-c7144a1be3a3\")>,\n",
       " <selenium.webdriver.remote.webelement.WebElement (session=\"c8f5e7d4dfad799252428961866f2da9\", element=\"742c6b2d-7343-4db2-84d4-34465b3c56c3\")>,\n",
       " <selenium.webdriver.remote.webelement.WebElement (session=\"c8f5e7d4dfad799252428961866f2da9\", element=\"b994fd6f-bab0-4722-9685-86f385fb86f6\")>,\n",
       " <selenium.webdriver.remote.webelement.WebElement (session=\"c8f5e7d4dfad799252428961866f2da9\", element=\"b8cb0aa4-5d56-48ce-892c-b195a08baa07\")>,\n",
       " <selenium.webdriver.remote.webelement.WebElement (session=\"c8f5e7d4dfad799252428961866f2da9\", element=\"5479eb3f-c872-476f-ae66-d3a92519dad6\")>,\n",
       " <selenium.webdriver.remote.webelement.WebElement (session=\"c8f5e7d4dfad799252428961866f2da9\", element=\"2e3e1e64-bad1-4a2e-9d97-a8a9b957d504\")>]"
      ]
     },
     "execution_count": 100,
     "metadata": {},
     "output_type": "execute_result"
    }
   ],
   "source": [
    "ActionChains."
   ]
  },
  {
   "cell_type": "code",
   "execution_count": 107,
   "id": "ac0a97ad",
   "metadata": {},
   "outputs": [
    {
     "data": {
      "text/plain": [
       "22"
      ]
     },
     "execution_count": 107,
     "metadata": {},
     "output_type": "execute_result"
    }
   ],
   "source": [
    "len(elements)"
   ]
  },
  {
   "cell_type": "markdown",
   "id": "ed4ddedc",
   "metadata": {},
   "source": [
    "up to here is complete"
   ]
  },
  {
   "cell_type": "code",
   "execution_count": 106,
   "id": "20651627",
   "metadata": {},
   "outputs": [],
   "source": [
    "elements = driver.find_elements(By.CSS_SELECTOR,'.product-list_ProductList__item__LiiNI')"
   ]
  },
  {
   "cell_type": "code",
   "execution_count": null,
   "id": "eaaa5d16",
   "metadata": {},
   "outputs": [],
   "source": []
  },
  {
   "cell_type": "code",
   "execution_count": 14,
   "id": "75983d41",
   "metadata": {
    "scrolled": true
   },
   "outputs": [],
   "source": [
    "data=list()\n",
    "for element in elements:\n",
    "    datadic=dict()\n",
    "    \n",
    "    index=element.get_attribute('data-product-index')  # get data-product-index from each elements\n",
    "    \n",
    "    title=element.find_element(By.TAG_NAME,'a') #find a tag name from each elements\n",
    "    name= title.find_element(By.TAG_NAME,'h3').get_attribute('innerHTML')# find h3 tag_name  then get inner html from each \"a\"\n",
    "    \n",
    "    \n",
    "    \n",
    "    ####add  \n",
    "    datadic['index']=index\n",
    "    datadic['name']=name\n",
    "    data.append(datadic)"
   ]
  },
  {
   "cell_type": "code",
   "execution_count": 17,
   "id": "42d1d8a0",
   "metadata": {},
   "outputs": [
    {
     "data": {
      "text/plain": [
       "[{'index': '1', 'name': 'دوچرخه کوهستان ویوا مدل BLAZE کد 24 سایز 27.5'},\n",
       " {'index': '2', 'name': 'دوچرخه برقی تاشو شیائومی مدل XMDZLZXC01QJ'},\n",
       " {'index': '3', 'name': 'دوچرخه کوهستان مدل SUMMER سایز 20'},\n",
       " {'index': '4', 'name': 'دوچرخه کوهستان المپیا مدل SUMMER کد S-80 سایز 26'},\n",
       " {'index': '5',\n",
       "  'name': 'دوچرخه کوهستان المپیا مدل WINNER کد اورانوس سایز 27.5'},\n",
       " {'index': '6', 'name': 'دوچرخه برقی لندروور مدل Challenge G4 سایز 26'},\n",
       " {'index': '7', 'name': 'دوچرخه کورسی مریدا مدل Scultura 400'},\n",
       " {'index': '8', 'name': 'دوچرخه کوهستان المپیا مدل summer سایز 26'},\n",
       " {'index': '9', 'name': 'دوچرخه کوهستان ویوا مدل MAMBA سایز 26'},\n",
       " {'index': '10', 'name': 'دوچرخه کوهستان ویوا مدل MAMBA سایز 26'},\n",
       " {'index': '11', 'name': 'دوچرخه شهری لاودیس کد 20135-3 سایز 20'},\n",
       " {'index': '12', 'name': 'دوچرخه کوهستان المپیا مدل summer 024 سایز 24'},\n",
       " {'index': '13', 'name': 'دوچرخه کوهستان پاور مدل کمکدار سایز 26'},\n",
       " {'index': '14', 'name': 'دوچرخه شهری گالانت مدل Spinix s80 سایز 26'},\n",
       " {'index': '15', 'name': 'دوچرخه کوهستان المپیا مدل Summer s80 سایز 24'},\n",
       " {'index': '16', 'name': 'دوچرخه کوهستان المپیا مدل RLL 02 سایز 26'},\n",
       " {'index': '17', 'name': 'دوچرخه کوهستان ویوا مدل BLAZE کد 27 سایز 27.5'},\n",
       " {'index': '18', 'name': 'دوچرخه کوهستان اسمارت مدل sm 200 سایز 26'},\n",
       " {'index': '19', 'name': 'دوچرخه کوهستان اولمپیا مدل سامر02 سایز26'},\n",
       " {'index': '20', 'name': 'دوچرخه کوهستان انرژی مدل کربن سایز 29'},\n",
       " {'index': '21', 'name': 'دوچرخه کوهستان مدل summer s80 سایز 20'},\n",
       " {'index': '22', 'name': 'دوچرخه کوهستان ویوا مدل OXYGEN کد 100 سایز 26'},\n",
       " {'index': '23', 'name': 'دوچرخه کوهستان پاور مدل کمکدار سایز 26'}]"
      ]
     },
     "execution_count": 17,
     "metadata": {},
     "output_type": "execute_result"
    }
   ],
   "source": [
    "data"
   ]
  },
  {
   "cell_type": "code",
   "execution_count": null,
   "id": "566dcfd7",
   "metadata": {},
   "outputs": [],
   "source": [
    "import csv\n",
    "csv_columns = ['index','name']\n",
    "csv_file = \"Names.csv \"\n",
    "with open(csv_file, 'w', encoding='utf-8-sig') as csvfile:\n",
    "    writer = csv.DictWriter(csvfile, fieldnames=csv_columns)\n",
    "    writer.writeheader()\n",
    "    for i in data:\n",
    "            writer.writerow(i)"
   ]
  },
  {
   "cell_type": "code",
   "execution_count": null,
   "id": "6949bc8b",
   "metadata": {},
   "outputs": [],
   "source": [
    "import pandas as pd"
   ]
  },
  {
   "cell_type": "code",
   "execution_count": null,
   "id": "5abc4d50",
   "metadata": {},
   "outputs": [],
   "source": [
    "df = pd.read_csv(\"Names.csv\")"
   ]
  },
  {
   "cell_type": "code",
   "execution_count": null,
   "id": "5174e48d",
   "metadata": {},
   "outputs": [],
   "source": [
    "df.head()"
   ]
  }
 ],
 "metadata": {
  "kernelspec": {
   "display_name": "Python 3 (ipykernel)",
   "language": "python",
   "name": "python3"
  },
  "language_info": {
   "codemirror_mode": {
    "name": "ipython",
    "version": 3
   },
   "file_extension": ".py",
   "mimetype": "text/x-python",
   "name": "python",
   "nbconvert_exporter": "python",
   "pygments_lexer": "ipython3",
   "version": "3.9.16"
  }
 },
 "nbformat": 4,
 "nbformat_minor": 5
}
