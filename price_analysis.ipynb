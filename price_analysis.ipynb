{
 "cells": [
  {
   "cell_type": "code",
   "execution_count": 68,
   "id": "9e295a1f",
   "metadata": {},
   "outputs": [],
   "source": [
    "#This app lable price "
   ]
  },
  {
   "cell_type": "code",
   "execution_count": 69,
   "id": "fe41bfc1",
   "metadata": {},
   "outputs": [],
   "source": [
    "#creat sample data\n",
    "\n",
    "data = pd.DataFrame(\n",
    "    {\n",
    "        'name':['خودت باش','بسم رب مهدی','یا لثارات الحسیین','منتقم','زهرا س','برای  مهدی'],\n",
    "        'price':[313,4500,7500,8000,1000,150]\n",
    "    }\n",
    "\n",
    ")"
   ]
  },
  {
   "cell_type": "code",
   "execution_count": 70,
   "id": "dda52ffd",
   "metadata": {},
   "outputs": [
    {
     "data": {
      "text/html": [
       "<div>\n",
       "<style scoped>\n",
       "    .dataframe tbody tr th:only-of-type {\n",
       "        vertical-align: middle;\n",
       "    }\n",
       "\n",
       "    .dataframe tbody tr th {\n",
       "        vertical-align: top;\n",
       "    }\n",
       "\n",
       "    .dataframe thead th {\n",
       "        text-align: right;\n",
       "    }\n",
       "</style>\n",
       "<table border=\"1\" class=\"dataframe\">\n",
       "  <thead>\n",
       "    <tr style=\"text-align: right;\">\n",
       "      <th></th>\n",
       "      <th>name</th>\n",
       "      <th>price</th>\n",
       "    </tr>\n",
       "  </thead>\n",
       "  <tbody>\n",
       "    <tr>\n",
       "      <th>0</th>\n",
       "      <td>خودت باش</td>\n",
       "      <td>313</td>\n",
       "    </tr>\n",
       "    <tr>\n",
       "      <th>1</th>\n",
       "      <td>بسم رب مهدی</td>\n",
       "      <td>4500</td>\n",
       "    </tr>\n",
       "    <tr>\n",
       "      <th>2</th>\n",
       "      <td>یا لثارات الحسیین</td>\n",
       "      <td>7500</td>\n",
       "    </tr>\n",
       "    <tr>\n",
       "      <th>3</th>\n",
       "      <td>منتقم</td>\n",
       "      <td>8000</td>\n",
       "    </tr>\n",
       "    <tr>\n",
       "      <th>4</th>\n",
       "      <td>زهرا س</td>\n",
       "      <td>1000</td>\n",
       "    </tr>\n",
       "    <tr>\n",
       "      <th>5</th>\n",
       "      <td>برای  مهدی</td>\n",
       "      <td>150</td>\n",
       "    </tr>\n",
       "  </tbody>\n",
       "</table>\n",
       "</div>"
      ],
      "text/plain": [
       "                name  price\n",
       "0           خودت باش    313\n",
       "1        بسم رب مهدی   4500\n",
       "2  یا لثارات الحسیین   7500\n",
       "3              منتقم   8000\n",
       "4             زهرا س   1000\n",
       "5         برای  مهدی    150"
      ]
     },
     "execution_count": 70,
     "metadata": {},
     "output_type": "execute_result"
    }
   ],
   "source": [
    "data"
   ]
  },
  {
   "cell_type": "code",
   "execution_count": 71,
   "id": "04947303",
   "metadata": {},
   "outputs": [
    {
     "name": "stdout",
     "output_type": "stream",
     "text": [
      "{'25%': 484.75, '50%': 2750.0, '75%': 6750.0}\n"
     ]
    }
   ],
   "source": [
    "# calculate Quartiles(25%,50%,75%)\n",
    "spss = dict()\n",
    "for i in [25,50,75]:\n",
    "    num =np.percentile(data.price,i)\n",
    "    spss['{}%'.format(i)]=num\n",
    "print(spss)"
   ]
  },
  {
   "cell_type": "code",
   "execution_count": 72,
   "id": "e40979c9",
   "metadata": {},
   "outputs": [],
   "source": [
    "#lable price and append lable list to dataframe\n",
    "status = list()\n",
    "for price in data.price:\n",
    "    if price <= spss['25%']:\n",
    "        status.append('ارزان')\n",
    "    if spss['25%'] < price <spss['75%']:\n",
    "        status.append(مع')\n",
    "    if price >= spss['75%']:\n",
    "        status.append('گران')\n",
    "data['status']=status"
   ]
  },
  {
   "cell_type": "code",
   "execution_count": 76,
   "id": "f0218f22",
   "metadata": {},
   "outputs": [],
   "source": [
    "#export data frame to csv file\n",
    "data.to_csv('spss.csv', encoding='utf-8', index=False)"
   ]
  },
  {
   "cell_type": "code",
   "execution_count": null,
   "id": "44ce569b",
   "metadata": {},
   "outputs": [],
   "source": []
  }
 ],
 "metadata": {
  "kernelspec": {
   "display_name": "Python 3 (ipykernel)",
   "language": "python",
   "name": "python3"
  },
  "language_info": {
   "codemirror_mode": {
    "name": "ipython",
    "version": 3
   },
   "file_extension": ".py",
   "mimetype": "text/x-python",
   "name": "python",
   "nbconvert_exporter": "python",
   "pygments_lexer": "ipython3",
   "version": "3.9.16"
  }
 },
 "nbformat": 4,
 "nbformat_minor": 5
}
