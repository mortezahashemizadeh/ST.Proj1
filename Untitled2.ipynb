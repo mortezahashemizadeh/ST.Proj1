{
 "cells": [
  {
   "cell_type": "code",
   "execution_count": 8,
   "id": "c48b662b",
   "metadata": {},
   "outputs": [],
   "source": [
    "\n",
    "from selenium import webdriver\n",
    "from selenium.webdriver.common.by import By\n",
    "import time"
   ]
  },
  {
   "cell_type": "code",
   "execution_count": 9,
   "id": "c4043cec",
   "metadata": {},
   "outputs": [],
   "source": [
    "path = 'chromedriver.exe'"
   ]
  },
  {
   "cell_type": "code",
   "execution_count": 10,
   "id": "bdbe55f8",
   "metadata": {},
   "outputs": [
    {
     "name": "stderr",
     "output_type": "stream",
     "text": [
      "C:\\Users\\MORTEZA\\AppData\\Local\\Temp\\ipykernel_11960\\2107036205.py:1: DeprecationWarning: executable_path has been deprecated, please pass in a Service object\n",
      "  driver = webdriver.Chrome(path)\n"
     ]
    }
   ],
   "source": [
    "driver = webdriver.Chrome(path)"
   ]
  },
  {
   "cell_type": "code",
   "execution_count": 11,
   "id": "12f50df8",
   "metadata": {},
   "outputs": [],
   "source": [
    "site=driver.get(\"https://www.digikala.com/search/?q=دوچرخه\")\n",
    "driver.maximize_window()"
   ]
  },
  {
   "cell_type": "code",
   "execution_count": 12,
   "id": "46271905",
   "metadata": {},
   "outputs": [],
   "source": [
    "time.sleep(3)\n",
    "for i in range(20):\n",
    "    driver.execute_script(\"window.scrollTo(0,document.body.scrollHeight)\")"
   ]
  },
  {
   "cell_type": "code",
   "execution_count": 13,
   "id": "23aab756",
   "metadata": {},
   "outputs": [],
   "source": [
    "element = driver.find_elements(By.CSS_SELECTOR,'.product-list_ProductList__item__LiiNI')"
   ]
  },
  {
   "cell_type": "code",
   "execution_count": 14,
   "id": "75983d41",
   "metadata": {
    "scrolled": true
   },
   "outputs": [],
   "source": [
    "data=list()\n",
    "for i in element:\n",
    "    datadic=dict()\n",
    "    index=i.get_attribute('data-product-index')\n",
    "    title=i.find_element(By.TAG_NAME,'a')\n",
    "    title1 = title.find_element(By.TAG_NAME,'h3')\n",
    "    name = title1.get_attribute('innerHTML')\n",
    "    datadic['index']=index\n",
    "    datadic['name']=name\n",
    "    data.append(datadic)"
   ]
  },
  {
   "cell_type": "code",
   "execution_count": 15,
   "id": "42d1d8a0",
   "metadata": {},
   "outputs": [
    {
     "data": {
      "text/plain": [
       "[{'index': '1', 'name': 'دوچرخه کوهستان المپیا مدل&nbsp;0003 سایز 26'},\n",
       " {'index': '2', 'name': 'دوچرخه برقی تاشو شیائومی مدل XMDZLZXC01QJ'},\n",
       " {'index': '3', 'name': 'دوچرخه برقی لندروور مدل Challenge G4 سایز 26'},\n",
       " {'index': '4', 'name': 'دوچرخه کوهستان ویوا مدل MAMBA سایز 26'},\n",
       " {'index': '5', 'name': 'دوچرخه کوهستان مدل SUMMER سایز 20'},\n",
       " {'index': '6', 'name': 'دوچرخه کوهستان ویوا مدل MAMBA سایز 26'},\n",
       " {'index': '7', 'name': 'دوچرخه کورسی مریدا مدل Scultura 400'},\n",
       " {'index': '8', 'name': 'دوچرخه کوهستان انرژی مدل کربن سایز 29'},\n",
       " {'index': '9', 'name': 'دوچرخه شهری گالانت مدل Spinix s80 سایز 26'},\n",
       " {'index': '10', 'name': 'دوچرخه کوهستان المپیا مدل Summer s80 سایز 24'},\n",
       " {'index': '11', 'name': 'دوچرخه کوهستان المپیا مدل summer سایز 26'},\n",
       " {'index': '12', 'name': 'دوچرخه کوهستان المپیا مدل RLL 02 سایز 26'},\n",
       " {'index': '13', 'name': 'دوچرخه کوهستان پاور مدل کمکدار سایز 26'},\n",
       " {'index': '14', 'name': 'دوچرخه کوهستان ویوا مدل N200 سایز 26'},\n",
       " {'index': '15', 'name': 'دوچرخه شهری لاودیس کد 20135-3 سایز 20'},\n",
       " {'index': '16', 'name': 'دوچرخه کوهستان المپیا مدل summer 024 سایز 24'},\n",
       " {'index': '17', 'name': 'دوچرخه کوهستان اسمارت مدل sm 200 سایز 26'},\n",
       " {'index': '18', 'name': 'دوچرخه کوهستان المپیا مدل new Q300 دنده ای سایز 24'},\n",
       " {'index': '19', 'name': 'دوچرخه کوهستان ویوا مدل BLAZE کد 27 سایز 27.5'},\n",
       " {'index': '20', 'name': 'دوچرخه کوهستان اولمپیا مدل سامر02 سایز26'},\n",
       " {'index': '21', 'name': 'دوچرخه کوهستان اولمپیا مدل سامر02 سایز26'},\n",
       " {'index': '22', 'name': 'دوچرخه کوهستان المپیا مدل summer 020 سایز 20'},\n",
       " {'index': '23', 'name': 'دوچرخه کوهستان پاور مدل کمکدار سایز 26'},\n",
       " {'index': '24', 'name': 'دوچرخه شهری ویوا مدل بچه گانه کد 16227 سایز 16'},\n",
       " {'index': '25', 'name': 'دوچرخه شهری ویوا مدل ALICC سایز 12'},\n",
       " {'index': '26', 'name': 'دوچرخه شهری پورت لاین مدل چیچک سایز 20'},\n",
       " {'index': '27', 'name': 'دوچرخه شهری لاودیس کد 16135-1 سایز 16'},\n",
       " {'index': '28', 'name': 'دوچرخه شهری پورت لاین مدل چیچک سایز 12'},\n",
       " {'index': '29', 'name': 'دوچرخه کوهستان مدل اسپکت 740-2022 سایز 27.5'},\n",
       " {'index': '30', 'name': 'دوچرخه کوهستان جاینت مدل رینکون 2 سایز 29'},\n",
       " {'index': '31', 'name': 'دوچرخه کوهستان المپیا مدل Summer s80 سایز 26'},\n",
       " {'index': '32', 'name': 'دوچرخه کوهستان مدل summer 01 سایز 26'},\n",
       " {'index': '33', 'name': 'دوچرخه کوهستان ترینکس مدل M136 کد ELITE سایز 27.5'},\n",
       " {'index': '34', 'name': 'دوچرخه کوهستان ویوا مدل SENATOR سایز 27.5'},\n",
       " {'index': '35', 'name': 'دوچرخه کوهستان المپیا مدل WINNER سایز 24'},\n",
       " {'index': '36', 'name': 'دوچرخه کوهستان ویوا مدل OXYGEN کد 100 سایز 26'},\n",
       " {'index': '37', 'name': 'دوچرخه کوهستان جاینت مدل رینکون 1 سایز 27.5'},\n",
       " {'index': '38', 'name': 'دوچرخه کوهستان المپیا مدل&nbsp;0002 سایز 26'},\n",
       " {'index': '39', 'name': 'دوچرخه کوهستان جاینت مدل Talon 3 سایز 27.5'},\n",
       " {'index': '40', 'name': 'دوچرخه کوهستان راکی مدل R400 سایز 26'}]"
      ]
     },
     "execution_count": 15,
     "metadata": {},
     "output_type": "execute_result"
    }
   ],
   "source": [
    "data"
   ]
  },
  {
   "cell_type": "code",
   "execution_count": 19,
   "id": "566dcfd7",
   "metadata": {},
   "outputs": [],
   "source": [
    "import csv\n",
    "csv_columns = ['index','name']\n",
    "csv_file = \"Names.csv \"\n",
    "with open(csv_file, 'w', encoding='utf-8-sig') as csvfile:\n",
    "    writer = csv.DictWriter(csvfile, fieldnames=csv_columns)\n",
    "    writer.writeheader()\n",
    "    for i in data:\n",
    "            writer.writerow(i)"
   ]
  },
  {
   "cell_type": "code",
   "execution_count": 21,
   "id": "6949bc8b",
   "metadata": {},
   "outputs": [],
   "source": [
    "import pandas as pd"
   ]
  },
  {
   "cell_type": "code",
   "execution_count": 22,
   "id": "5abc4d50",
   "metadata": {},
   "outputs": [],
   "source": [
    "df = pd.read_csv(\"Names.csv\")"
   ]
  },
  {
   "cell_type": "code",
   "execution_count": 23,
   "id": "5174e48d",
   "metadata": {},
   "outputs": [
    {
     "data": {
      "text/html": [
       "<div>\n",
       "<style scoped>\n",
       "    .dataframe tbody tr th:only-of-type {\n",
       "        vertical-align: middle;\n",
       "    }\n",
       "\n",
       "    .dataframe tbody tr th {\n",
       "        vertical-align: top;\n",
       "    }\n",
       "\n",
       "    .dataframe thead th {\n",
       "        text-align: right;\n",
       "    }\n",
       "</style>\n",
       "<table border=\"1\" class=\"dataframe\">\n",
       "  <thead>\n",
       "    <tr style=\"text-align: right;\">\n",
       "      <th></th>\n",
       "      <th>index</th>\n",
       "      <th>name</th>\n",
       "    </tr>\n",
       "  </thead>\n",
       "  <tbody>\n",
       "    <tr>\n",
       "      <th>0</th>\n",
       "      <td>1</td>\n",
       "      <td>دوچرخه کوهستان المپیا مدل&amp;nbsp;0003 سایز 26</td>\n",
       "    </tr>\n",
       "    <tr>\n",
       "      <th>1</th>\n",
       "      <td>2</td>\n",
       "      <td>دوچرخه برقی تاشو شیائومی مدل XMDZLZXC01QJ</td>\n",
       "    </tr>\n",
       "    <tr>\n",
       "      <th>2</th>\n",
       "      <td>3</td>\n",
       "      <td>دوچرخه برقی لندروور مدل Challenge G4 سایز 26</td>\n",
       "    </tr>\n",
       "    <tr>\n",
       "      <th>3</th>\n",
       "      <td>4</td>\n",
       "      <td>دوچرخه کوهستان ویوا مدل MAMBA سایز 26</td>\n",
       "    </tr>\n",
       "    <tr>\n",
       "      <th>4</th>\n",
       "      <td>5</td>\n",
       "      <td>دوچرخه کوهستان مدل SUMMER سایز 20</td>\n",
       "    </tr>\n",
       "  </tbody>\n",
       "</table>\n",
       "</div>"
      ],
      "text/plain": [
       "   index                                          name\n",
       "0      1   دوچرخه کوهستان المپیا مدل&nbsp;0003 سایز 26\n",
       "1      2     دوچرخه برقی تاشو شیائومی مدل XMDZLZXC01QJ\n",
       "2      3  دوچرخه برقی لندروور مدل Challenge G4 سایز 26\n",
       "3      4         دوچرخه کوهستان ویوا مدل MAMBA سایز 26\n",
       "4      5             دوچرخه کوهستان مدل SUMMER سایز 20"
      ]
     },
     "execution_count": 23,
     "metadata": {},
     "output_type": "execute_result"
    }
   ],
   "source": [
    "df.head()"
   ]
  },
  {
   "cell_type": "code",
   "execution_count": 77,
   "id": "476ff406",
   "metadata": {},
   "outputs": [],
   "source": []
  },
  {
   "cell_type": "code",
   "execution_count": 78,
   "id": "daa03887",
   "metadata": {},
   "outputs": [
    {
     "data": {
      "text/plain": [
       "b'hello'"
      ]
     },
     "execution_count": 78,
     "metadata": {},
     "output_type": "execute_result"
    }
   ],
   "source": [
    "a.encode()"
   ]
  },
  {
   "cell_type": "code",
   "execution_count": 86,
   "id": "325f2046",
   "metadata": {},
   "outputs": [
    {
     "ename": "TypeError",
     "evalue": "write() argument must be str, not list",
     "output_type": "error",
     "traceback": [
      "\u001b[1;31m---------------------------------------------------------------------------\u001b[0m",
      "\u001b[1;31mTypeError\u001b[0m                                 Traceback (most recent call last)",
      "Cell \u001b[1;32mIn[86], line 2\u001b[0m\n\u001b[0;32m      1\u001b[0m \u001b[38;5;28;01mwith\u001b[39;00m \u001b[38;5;28mopen\u001b[39m(\u001b[38;5;124m'\u001b[39m\u001b[38;5;124mfname\u001b[39m\u001b[38;5;124m'\u001b[39m, \u001b[38;5;124m\"\u001b[39m\u001b[38;5;124mw+\u001b[39m\u001b[38;5;124m\"\u001b[39m, encoding\u001b[38;5;241m=\u001b[39m\u001b[38;5;124m\"\u001b[39m\u001b[38;5;124mutf-8\u001b[39m\u001b[38;5;124m\"\u001b[39m) \u001b[38;5;28;01mas\u001b[39;00m f:\n\u001b[1;32m----> 2\u001b[0m     \u001b[43mf\u001b[49m\u001b[38;5;241;43m.\u001b[39;49m\u001b[43mwrite\u001b[49m\u001b[43m(\u001b[49m\u001b[43mdata\u001b[49m\u001b[43m)\u001b[49m\n",
      "\u001b[1;31mTypeError\u001b[0m: write() argument must be str, not list"
     ]
    }
   ],
   "source": [
    "with open('fname', \"w+\", encoding=\"utf-8\") as f:\n",
    "    f.write()"
   ]
  },
  {
   "cell_type": "code",
   "execution_count": null,
   "id": "b0e647b6",
   "metadata": {},
   "outputs": [],
   "source": []
  }
 ],
 "metadata": {
  "kernelspec": {
   "display_name": "Python 3 (ipykernel)",
   "language": "python",
   "name": "python3"
  },
  "language_info": {
   "codemirror_mode": {
    "name": "ipython",
    "version": 3
   },
   "file_extension": ".py",
   "mimetype": "text/x-python",
   "name": "python",
   "nbconvert_exporter": "python",
   "pygments_lexer": "ipython3",
   "version": "3.10.10"
  }
 },
 "nbformat": 4,
 "nbformat_minor": 5
}
