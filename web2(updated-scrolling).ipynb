{
 "cells": [
  {
   "cell_type": "code",
   "execution_count": 139,
   "id": "c48b662b",
   "metadata": {},
   "outputs": [],
   "source": [
    "\n",
    "from selenium import webdriver\n",
    "from selenium.webdriver.common.by import By\n",
    "from selenium.webdriver.common.action_chains import ActionChains # For scrolling web page \n",
    "from selenium.webdriver.chrome.options import Options  # for suppressing the browser\n",
    "import time"
   ]
  },
  {
   "cell_type": "code",
   "execution_count": 140,
   "id": "c4043cec",
   "metadata": {},
   "outputs": [],
   "source": [
    "path = 'chromedriver.exe'"
   ]
  },
  {
   "cell_type": "code",
   "execution_count": 141,
   "id": "bdbe55f8",
   "metadata": {},
   "outputs": [],
   "source": [
    "option = webdriver.ChromeOptions()\n",
    "option.add_argument('headless')\n",
    "driver = webdriver.Chrome(options=option)\n",
    "site=driver.get(\"https://www.digikala.com/search/?q=دوچرخه\")"
   ]
  },
  {
   "cell_type": "code",
   "execution_count": 144,
   "id": "b69d1353",
   "metadata": {},
   "outputs": [
    {
     "name": "stdout",
     "output_type": "stream",
     "text": [
      "Scrolling Done.\n"
     ]
    }
   ],
   "source": [
    "# scrolling down\n",
    "try :\n",
    "    while True:             \n",
    "        footer = driver.find_element(By.TAG_NAME, 'footer')\n",
    "        ActionChains(driver).move_to_element(footer).perform()\n",
    "        time.sleep(1)\n",
    "        element = driver.find_elements(By.CSS_SELECTOR,'.product-list_ProductList__item__LiiNI')\n",
    "        if len(element) > 50 : # can be optimize better\n",
    "            break\n",
    "        else :\n",
    "            continue\n",
    "except:\n",
    "     print(\"Scrolling Done.\")"
   ]
  },
  {
   "cell_type": "code",
   "execution_count": null,
   "id": "5b071736",
   "metadata": {},
   "outputs": [],
   "source": [
    "element"
   ]
  },
  {
   "cell_type": "code",
   "execution_count": 143,
   "id": "ac0a97ad",
   "metadata": {},
   "outputs": [
    {
     "data": {
      "text/plain": [
       "63"
      ]
     },
     "execution_count": 143,
     "metadata": {},
     "output_type": "execute_result"
    }
   ],
   "source": [
    "len(element)"
   ]
  },
  {
   "attachments": {},
   "cell_type": "markdown",
   "id": "ed4ddedc",
   "metadata": {},
   "source": [
    "up to here is complete"
   ]
  },
  {
   "cell_type": "code",
   "execution_count": null,
   "id": "20651627",
   "metadata": {},
   "outputs": [],
   "source": []
  },
  {
   "cell_type": "code",
   "execution_count": null,
   "id": "eaaa5d16",
   "metadata": {},
   "outputs": [],
   "source": []
  },
  {
   "cell_type": "code",
   "execution_count": null,
   "id": "75983d41",
   "metadata": {
    "scrolled": true
   },
   "outputs": [],
   "source": [
    "data=list()\n",
    "for i in element:\n",
    "    datadic=dict()\n",
    "    index=i.get_attribute('data-product-index')\n",
    "    title=i.find_element(By.TAG_NAME,'a')\n",
    "    title1 = title.find_element(By.TAG_NAME,'h3')\n",
    "    name = title1.get_attribute('innerHTML')\n",
    "    datadic['index']=index\n",
    "    datadic['name']=name\n",
    "    data.append(datadic)"
   ]
  },
  {
   "cell_type": "code",
   "execution_count": null,
   "id": "42d1d8a0",
   "metadata": {},
   "outputs": [],
   "source": [
    "data"
   ]
  },
  {
   "cell_type": "code",
   "execution_count": null,
   "id": "566dcfd7",
   "metadata": {},
   "outputs": [],
   "source": [
    "import csv\n",
    "csv_columns = ['index','name']\n",
    "csv_file = \"Names.csv \"\n",
    "with open(csv_file, 'w', encoding='utf-8-sig') as csvfile:\n",
    "    writer = csv.DictWriter(csvfile, fieldnames=csv_columns)\n",
    "    writer.writeheader()\n",
    "    for i in data:\n",
    "            writer.writerow(i)"
   ]
  },
  {
   "cell_type": "code",
   "execution_count": null,
   "id": "6949bc8b",
   "metadata": {},
   "outputs": [],
   "source": [
    "import pandas as pd"
   ]
  },
  {
   "cell_type": "code",
   "execution_count": null,
   "id": "5abc4d50",
   "metadata": {},
   "outputs": [],
   "source": [
    "df = pd.read_csv(\"Names.csv\")"
   ]
  },
  {
   "cell_type": "code",
   "execution_count": null,
   "id": "5174e48d",
   "metadata": {},
   "outputs": [],
   "source": [
    "df.head()"
   ]
  },
  {
   "cell_type": "code",
   "execution_count": null,
   "id": "476ff406",
   "metadata": {},
   "outputs": [],
   "source": []
  },
  {
   "cell_type": "code",
   "execution_count": null,
   "id": "daa03887",
   "metadata": {},
   "outputs": [],
   "source": []
  },
  {
   "cell_type": "code",
   "execution_count": null,
   "id": "325f2046",
   "metadata": {},
   "outputs": [],
   "source": [
    "with open('fname', \"w+\", encoding=\"utf-8\") as f:\n",
    "    f.write()"
   ]
  },
  {
   "cell_type": "code",
   "execution_count": null,
   "id": "b0e647b6",
   "metadata": {},
   "outputs": [],
   "source": []
  }
 ],
 "metadata": {
  "kernelspec": {
   "display_name": "Python 3 (ipykernel)",
   "language": "python",
   "name": "python3"
  },
  "language_info": {
   "codemirror_mode": {
    "name": "ipython",
    "version": 3
   },
   "file_extension": ".py",
   "mimetype": "text/x-python",
   "name": "python",
   "nbconvert_exporter": "python",
   "pygments_lexer": "ipython3",
   "version": "3.10.10"
  }
 },
 "nbformat": 4,
 "nbformat_minor": 5
}
