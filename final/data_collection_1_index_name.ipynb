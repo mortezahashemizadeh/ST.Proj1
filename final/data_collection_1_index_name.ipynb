{
 "cells": [
  {
   "cell_type": "code",
   "execution_count": 1,
   "id": "c48b662b",
   "metadata": {},
   "outputs": [],
   "source": [
    "from selenium import webdriver\n",
    "from selenium.webdriver.common.by import By \n",
    "from selenium.webdriver.common.keys import Keys \n",
    "from selenium.webdriver.chrome.options import Options  # for suppressing the browser\n",
    "import time\n",
    "import csv\n",
    "import pandas as pd\n",
    "import timeit\n",
    "start = timeit.default_timer()\n"
   ]
  },
  {
   "cell_type": "code",
   "execution_count": 2,
   "id": "c4043cec",
   "metadata": {},
   "outputs": [],
   "source": [
    "path = 'chromedriver.exe'"
   ]
  },
  {
   "cell_type": "code",
   "execution_count": 3,
   "id": "82ce7177",
   "metadata": {},
   "outputs": [],
   "source": [
    "def numberdecode(number):\n",
    "    '''\n",
    "    Change persian number to latin nnumber \n",
    "    input :'۳,۰۱۸,۶۰۰' type>> str\n",
    "    output:3018600 type >> int\n",
    "    '''\n",
    "    number=number.replace(',','') ### replace ',' to '' so remove ',' from str\n",
    "    from unidecode import unidecode \n",
    "    return int(unidecode(number)) ### english number"
   ]
  },
  {
   "cell_type": "code",
   "execution_count": 4,
   "id": "bdbe55f8",
   "metadata": {},
   "outputs": [],
   "source": [
    "option = webdriver.ChromeOptions()\n",
    "#option.add_argument('headless')\n",
    "driver = webdriver.Chrome(options=option)\n",
    "site=driver.get(\"https://www.digikala.com/search/?q=کتاب\")"
   ]
  },
  {
   "cell_type": "code",
   "execution_count": 5,
   "id": "20651627",
   "metadata": {},
   "outputs": [],
   "source": [
    "  #........................................................................................................#\n",
    "\n",
    "time.sleep(5)\n",
    "i,k=0,500\n",
    "while len(driver.find_elements(By.CSS_SELECTOR,'.product-list_ProductList__item__LiiNI'))<80:  #For Scroll and load page for get complete data.\n",
    "    i+=500\n",
    "    k+=500\n",
    "    time.sleep(0.8)\n",
    "    driver.execute_script(\"window.scrollTo({},{});\".format(i,k))\n",
    "    time.sleep(0.2)\n",
    "  #........................................................................................................#\n"
   ]
  },
  {
   "cell_type": "code",
   "execution_count": 6,
   "id": "75983d41",
   "metadata": {
    "scrolled": true
   },
   "outputs": [],
   "source": [
    "time.sleep(1)\n",
    "elements=driver.find_elements(By.CSS_SELECTOR,'.product-list_ProductList__item__LiiNI')\n",
    "time.sleep(0.3)\n",
    "data=list()\n",
    "for element in elements[0:51]:\n",
    "    datadic=dict()\n",
    "    #--------------------------------------------------------------------------------------------------------------#find index and name \n",
    "    index=element.get_attribute('data-product-index')                                                 # get data-product-index from each elements\n",
    "    title=element.find_element(By.TAG_NAME,'a')                                                       #find a tag name from each elements\n",
    "    name= title.find_element(By.TAG_NAME,'h3').get_attribute('innerHTML')                             # find h3 tag_name  then get inner html from each \"a\"\n",
    "    \n",
    "    \n",
    "    #--------------------------------------------------------------------------------------------------------------#Find Image Link\n",
    "    imgname = element.find_element(By.TAG_NAME,'picture').find_element(By.TAG_NAME,'img')             #\n",
    "    linkimage=imgname.get_attribute('data-src')\n",
    "    #--------------------------------------------------------------------------------------------------------------#Find Price\n",
    "    price_el=element.find_element(By.CSS_SELECTOR,\".d-flex.ai-center.jc-end.gap-1.color-700.color-400.text-h5.grow-1\").find_element(By.TAG_NAME,'span')\n",
    "    price=price_el.get_attribute('innerHTML')\n",
    "    #--------------------------------------------------------------------------------------------------------------# Find Link\n",
    "    link = element.find_element(By.TAG_NAME,'a').get_attribute('href')\n",
    "\n",
    "\n",
    "    #--------------------------------------------------------------------------------------------------------------# WRITE Data in dict then append to mother list\n",
    "    ####add each data to dict \n",
    "    datadic['index']=index\n",
    "#    datadic['name']='[{}]({})'.format(name,link)\n",
    "    datadic['name']=name\n",
    "    datadic['link']=link\n",
    "    datadic['price']=numberdecode(price)\n",
    "    datadic['img']=\"<img src='{}' height='80' />\".format(linkimage)\n",
    "    data.append(datadic)\n"
   ]
  },
  {
   "cell_type": "code",
   "execution_count": 7,
   "id": "566dcfd7",
   "metadata": {},
   "outputs": [],
   "source": [
    "  #........................................................................................................#\n",
    "# WRITE DATA in csv format\n",
    "csv_columns = ['index','name','price','img','link']\n",
    "csv_file = \"Names.csv \"\n",
    "with open(csv_file, 'w', encoding='utf-8-sig') as csvfile:\n",
    "    writer = csv.DictWriter(csvfile, fieldnames=csv_columns)\n",
    "    writer.writeheader()\n",
    "    for i in data:\n",
    "            writer.writerow(i)"
   ]
  },
  {
   "cell_type": "code",
   "execution_count": 8,
   "id": "8f6d7cbf",
   "metadata": {},
   "outputs": [
    {
     "name": "stdout",
     "output_type": "stream",
     "text": [
      "Time:  43.10024049998901\n"
     ]
    }
   ],
   "source": [
    "stop = timeit.default_timer()\n",
    "print('Time: ', stop - start) "
   ]
  },
  {
   "attachments": {},
   "cell_type": "markdown",
   "id": "460b3880",
   "metadata": {},
   "source": [
    "check data"
   ]
  },
  {
   "cell_type": "code",
   "execution_count": 9,
   "id": "5abc4d50",
   "metadata": {},
   "outputs": [],
   "source": [
    "df = pd.read_csv(\"Names.csv\")"
   ]
  },
  {
   "cell_type": "code",
   "execution_count": 10,
   "id": "5174e48d",
   "metadata": {},
   "outputs": [
    {
     "data": {
      "text/html": [
       "<div>\n",
       "<style scoped>\n",
       "    .dataframe tbody tr th:only-of-type {\n",
       "        vertical-align: middle;\n",
       "    }\n",
       "\n",
       "    .dataframe tbody tr th {\n",
       "        vertical-align: top;\n",
       "    }\n",
       "\n",
       "    .dataframe thead th {\n",
       "        text-align: right;\n",
       "    }\n",
       "</style>\n",
       "<table border=\"1\" class=\"dataframe\">\n",
       "  <thead>\n",
       "    <tr style=\"text-align: right;\">\n",
       "      <th></th>\n",
       "      <th>index</th>\n",
       "      <th>name</th>\n",
       "      <th>price</th>\n",
       "      <th>img</th>\n",
       "      <th>link</th>\n",
       "    </tr>\n",
       "  </thead>\n",
       "  <tbody>\n",
       "    <tr>\n",
       "      <th>0</th>\n",
       "      <td>1</td>\n",
       "      <td>کتاب نیمه تاریک وجود اثر دبی فورد نشر آزرمیدخت</td>\n",
       "      <td>71500</td>\n",
       "      <td>&lt;img src='https://dkstatics-public.digikala.co...</td>\n",
       "      <td>https://www.digikala.com/product/dkp-6367068/%...</td>\n",
       "    </tr>\n",
       "    <tr>\n",
       "      <th>1</th>\n",
       "      <td>2</td>\n",
       "      <td>کتاب بی حد و مرز اثر جیم کوییک نشر میلکان</td>\n",
       "      <td>85470</td>\n",
       "      <td>&lt;img src='https://dkstatics-public.digikala.co...</td>\n",
       "      <td>https://www.digikala.com/product/dkp-3650200/%...</td>\n",
       "    </tr>\n",
       "    <tr>\n",
       "      <th>2</th>\n",
       "      <td>3</td>\n",
       "      <td>کتاب JavaScript Cookbook Third Edition اثر Ada...</td>\n",
       "      <td>300000</td>\n",
       "      <td>&lt;img src='https://dkstatics-public.digikala.co...</td>\n",
       "      <td>https://www.digikala.com/product/dkp-10820915/...</td>\n",
       "    </tr>\n",
       "    <tr>\n",
       "      <th>3</th>\n",
       "      <td>4</td>\n",
       "      <td>کتاب Robust Python اثر Patrick Viafore انتش...</td>\n",
       "      <td>250000</td>\n",
       "      <td>&lt;img src='https://dkstatics-public.digikala.co...</td>\n",
       "      <td>https://www.digikala.com/product/dkp-10855874/...</td>\n",
       "    </tr>\n",
       "    <tr>\n",
       "      <th>4</th>\n",
       "      <td>5</td>\n",
       "      <td>کتاب تکه هایی از یک کل منسجم اثر پونه مقیمی نش...</td>\n",
       "      <td>113820</td>\n",
       "      <td>&lt;img src='https://dkstatics-public.digikala.co...</td>\n",
       "      <td>https://www.digikala.com/product/dkp-1772600/%...</td>\n",
       "    </tr>\n",
       "  </tbody>\n",
       "</table>\n",
       "</div>"
      ],
      "text/plain": [
       "   index                                               name   price  \\\n",
       "0      1     کتاب نیمه تاریک وجود اثر دبی فورد نشر آزرمیدخت   71500   \n",
       "1      2          کتاب بی حد و مرز اثر جیم کوییک نشر میلکان   85470   \n",
       "2      3  کتاب JavaScript Cookbook Third Edition اثر Ada...  300000   \n",
       "3      4     کتاب Robust Python اثر Patrick Viafore انتش...  250000   \n",
       "4      5  کتاب تکه هایی از یک کل منسجم اثر پونه مقیمی نش...  113820   \n",
       "\n",
       "                                                 img  \\\n",
       "0  <img src='https://dkstatics-public.digikala.co...   \n",
       "1  <img src='https://dkstatics-public.digikala.co...   \n",
       "2  <img src='https://dkstatics-public.digikala.co...   \n",
       "3  <img src='https://dkstatics-public.digikala.co...   \n",
       "4  <img src='https://dkstatics-public.digikala.co...   \n",
       "\n",
       "                                                link  \n",
       "0  https://www.digikala.com/product/dkp-6367068/%...  \n",
       "1  https://www.digikala.com/product/dkp-3650200/%...  \n",
       "2  https://www.digikala.com/product/dkp-10820915/...  \n",
       "3  https://www.digikala.com/product/dkp-10855874/...  \n",
       "4  https://www.digikala.com/product/dkp-1772600/%...  "
      ]
     },
     "execution_count": 10,
     "metadata": {},
     "output_type": "execute_result"
    }
   ],
   "source": [
    "df.head()"
   ]
  },
  {
   "attachments": {},
   "cell_type": "markdown",
   "id": "825f75c5",
   "metadata": {},
   "source": [
    "markdown format in dash"
   ]
  },
  {
   "cell_type": "code",
   "execution_count": 11,
   "id": "7758bb66",
   "metadata": {},
   "outputs": [
    {
     "data": {
      "text/plain": [
       "\"<img src='your link' height='120' />\""
      ]
     },
     "execution_count": 11,
     "metadata": {},
     "output_type": "execute_result"
    }
   ],
   "source": [
    "\"<img src={} height='120' />\".format(\"'your link'\") #####html format for markdown in dashtable  //// markdown image \n"
   ]
  },
  {
   "cell_type": "code",
   "execution_count": 12,
   "id": "d24cbd04",
   "metadata": {},
   "outputs": [
    {
     "data": {
      "text/plain": [
       "'[name](link)'"
      ]
     },
     "execution_count": 12,
     "metadata": {},
     "output_type": "execute_result"
    }
   ],
   "source": [
    "'[{}]({})'.format('name','link') #####html format for markdown in dashtable //// HyperLink"
   ]
  },
  {
   "cell_type": "code",
   "execution_count": null,
   "id": "b38902fb",
   "metadata": {},
   "outputs": [],
   "source": []
  }
 ],
 "metadata": {
  "kernelspec": {
   "display_name": "Python 3 (ipykernel)",
   "language": "python",
   "name": "python3"
  },
  "language_info": {
   "codemirror_mode": {
    "name": "ipython",
    "version": 3
   },
   "file_extension": ".py",
   "mimetype": "text/x-python",
   "name": "python",
   "nbconvert_exporter": "python",
   "pygments_lexer": "ipython3",
   "version": "3.10.6"
  }
 },
 "nbformat": 4,
 "nbformat_minor": 5
}
