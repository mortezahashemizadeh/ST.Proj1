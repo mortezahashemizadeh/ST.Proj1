{
 "cells": [
  {
   "cell_type": "code",
   "execution_count": 10,
   "id": "c48b662b",
   "metadata": {},
   "outputs": [],
   "source": [
    "from selenium import webdriver\n",
    "from selenium.webdriver.common.by import By \n",
    "from selenium.webdriver.common.keys import Keys \n",
    "from selenium.webdriver.common.action_chains import ActionChains # For scrolling web page \n",
    "from selenium.webdriver.chrome.options import Options  # for suppressing the browser\n",
    "import time"
   ]
  },
  {
   "cell_type": "code",
   "execution_count": 11,
   "id": "c4043cec",
   "metadata": {},
   "outputs": [],
   "source": [
    "path = 'chromedriver.exe'"
   ]
  },
  {
   "cell_type": "code",
   "execution_count": 12,
   "id": "bdbe55f8",
   "metadata": {},
   "outputs": [],
   "source": [
    "option = webdriver.ChromeOptions()\n",
    "option.add_argument('headless')\n",
    "driver = webdriver.Chrome(options=option)\n",
    "site=driver.get(\"https://www.digikala.com/search/?q=دوچرخه\")"
   ]
  },
  {
   "cell_type": "code",
   "execution_count": 16,
   "id": "20651627",
   "metadata": {},
   "outputs": [],
   "source": [
    "elements = driver.find_elements(By.CSS_SELECTOR,'.product-list_ProductList__item__LiiNI')  #FIND PRODUCT LIST ELEMENTS"
   ]
  },
  {
   "cell_type": "code",
   "execution_count": 17,
   "id": "75983d41",
   "metadata": {
    "scrolled": true
   },
   "outputs": [],
   "source": [
    "data=list()\n",
    "for element in elements:\n",
    "    datadic=dict()\n",
    "    \n",
    "    index=element.get_attribute('data-product-index')  # get data-product-index from each elements\n",
    "    \n",
    "    title=element.find_element(By.TAG_NAME,'a') #find a tag name from each elements\n",
    "    name= title.find_element(By.TAG_NAME,'h3').get_attribute('innerHTML')# find h3 tag_name  then get inner html from each \"a\"\n",
    "    \n",
    "    \n",
    "    \n",
    "    ####add  \n",
    "    datadic['index']=index\n",
    "    datadic['name']=name\n",
    "    data.append(datadic)"
   ]
  },
  {
   "cell_type": "code",
   "execution_count": 18,
   "id": "42d1d8a0",
   "metadata": {},
   "outputs": [
    {
     "data": {
      "text/plain": [
       "[{'index': '1', 'name': 'دوچرخه کوهستان المپیا مدل&nbsp;0003 سایز 26'},\n",
       " {'index': '2', 'name': 'دوچرخه برقی تاشو شیائومی مدل XMDZLZXC01QJ'},\n",
       " {'index': '3', 'name': 'دوچرخه برقی لندروور مدل Challenge G4 سایز 26'},\n",
       " {'index': '4', 'name': 'دوچرخه کوهستان ویوا مدل MAMBA سایز 26'},\n",
       " {'index': '5', 'name': 'دوچرخه کوهستان المپیا مدل Summer s80 سایز 24'},\n",
       " {'index': '6', 'name': 'دوچرخه کوهستان مدل SUMMER سایز 20'},\n",
       " {'index': '7', 'name': 'دوچرخه کورسی مریدا مدل Scultura 400'},\n",
       " {'index': '8', 'name': 'دوچرخه کوهستان ویوا مدل MAMBA سایز 26'},\n",
       " {'index': '9', 'name': 'دوچرخه کوهستان المپیا مدل summer سایز 26'},\n",
       " {'index': '10', 'name': 'دوچرخه کوهستان انرژی مدل کربن سایز 29'},\n",
       " {'index': '11', 'name': 'دوچرخه کوهستان پاور مدل کمکدار سایز 26'},\n",
       " {'index': '12', 'name': 'دوچرخه شهری گالانت مدل Spinix s80 سایز 26'},\n",
       " {'index': '13', 'name': 'دوچرخه کوهستان المپیا مدل RLL 02 سایز 26'},\n",
       " {'index': '14', 'name': 'دوچرخه شهری لاودیس کد 20135-3 سایز 20'},\n",
       " {'index': '15', 'name': 'دوچرخه کوهستان ویوا مدل N200 سایز 26'},\n",
       " {'index': '16', 'name': 'دوچرخه کوهستان المپیا مدل summer 024 سایز 24'},\n",
       " {'index': '17', 'name': 'دوچرخه کوهستان اسمارت مدل sm 200 سایز 26'},\n",
       " {'index': '18', 'name': 'دوچرخه کوهستان ویوا مدل BLAZE کد 27 سایز 27.5'},\n",
       " {'index': '19', 'name': 'دوچرخه کوهستان اولمپیا مدل سامر02 سایز26'},\n",
       " {'index': '20', 'name': 'دوچرخه کوهستان مدل summer s80 سایز 20'}]"
      ]
     },
     "execution_count": 18,
     "metadata": {},
     "output_type": "execute_result"
    }
   ],
   "source": [
    "data"
   ]
  },
  {
   "cell_type": "code",
   "execution_count": 19,
   "id": "566dcfd7",
   "metadata": {},
   "outputs": [],
   "source": [
    "import csv\n",
    "csv_columns = ['index','name']\n",
    "csv_file = \"Names.csv \"\n",
    "with open(csv_file, 'w', encoding='utf-8-sig') as csvfile:\n",
    "    writer = csv.DictWriter(csvfile, fieldnames=csv_columns)\n",
    "    writer.writeheader()\n",
    "    for i in data:\n",
    "            writer.writerow(i)"
   ]
  },
  {
   "cell_type": "code",
   "execution_count": 20,
   "id": "6949bc8b",
   "metadata": {},
   "outputs": [],
   "source": [
    "import pandas as pd"
   ]
  },
  {
   "cell_type": "code",
   "execution_count": 21,
   "id": "5abc4d50",
   "metadata": {},
   "outputs": [],
   "source": [
    "df = pd.read_csv(\"Names.csv\")"
   ]
  },
  {
   "cell_type": "code",
   "execution_count": 22,
   "id": "5174e48d",
   "metadata": {},
   "outputs": [
    {
     "data": {
      "text/html": [
       "<div>\n",
       "<style scoped>\n",
       "    .dataframe tbody tr th:only-of-type {\n",
       "        vertical-align: middle;\n",
       "    }\n",
       "\n",
       "    .dataframe tbody tr th {\n",
       "        vertical-align: top;\n",
       "    }\n",
       "\n",
       "    .dataframe thead th {\n",
       "        text-align: right;\n",
       "    }\n",
       "</style>\n",
       "<table border=\"1\" class=\"dataframe\">\n",
       "  <thead>\n",
       "    <tr style=\"text-align: right;\">\n",
       "      <th></th>\n",
       "      <th>index</th>\n",
       "      <th>name</th>\n",
       "    </tr>\n",
       "  </thead>\n",
       "  <tbody>\n",
       "    <tr>\n",
       "      <th>0</th>\n",
       "      <td>1</td>\n",
       "      <td>دوچرخه کوهستان المپیا مدل&amp;nbsp;0003 سایز 26</td>\n",
       "    </tr>\n",
       "    <tr>\n",
       "      <th>1</th>\n",
       "      <td>2</td>\n",
       "      <td>دوچرخه برقی تاشو شیائومی مدل XMDZLZXC01QJ</td>\n",
       "    </tr>\n",
       "    <tr>\n",
       "      <th>2</th>\n",
       "      <td>3</td>\n",
       "      <td>دوچرخه برقی لندروور مدل Challenge G4 سایز 26</td>\n",
       "    </tr>\n",
       "    <tr>\n",
       "      <th>3</th>\n",
       "      <td>4</td>\n",
       "      <td>دوچرخه کوهستان ویوا مدل MAMBA سایز 26</td>\n",
       "    </tr>\n",
       "    <tr>\n",
       "      <th>4</th>\n",
       "      <td>5</td>\n",
       "      <td>دوچرخه کوهستان المپیا مدل Summer s80 سایز 24</td>\n",
       "    </tr>\n",
       "  </tbody>\n",
       "</table>\n",
       "</div>"
      ],
      "text/plain": [
       "   index                                          name\n",
       "0      1   دوچرخه کوهستان المپیا مدل&nbsp;0003 سایز 26\n",
       "1      2     دوچرخه برقی تاشو شیائومی مدل XMDZLZXC01QJ\n",
       "2      3  دوچرخه برقی لندروور مدل Challenge G4 سایز 26\n",
       "3      4         دوچرخه کوهستان ویوا مدل MAMBA سایز 26\n",
       "4      5  دوچرخه کوهستان المپیا مدل Summer s80 سایز 24"
      ]
     },
     "execution_count": 22,
     "metadata": {},
     "output_type": "execute_result"
    }
   ],
   "source": [
    "df.head()"
   ]
  },
  {
   "cell_type": "code",
   "execution_count": null,
   "id": "d81e86fe",
   "metadata": {},
   "outputs": [],
   "source": []
  }
 ],
 "metadata": {
  "kernelspec": {
   "display_name": "Python 3 (ipykernel)",
   "language": "python",
   "name": "python3"
  },
  "language_info": {
   "codemirror_mode": {
    "name": "ipython",
    "version": 3
   },
   "file_extension": ".py",
   "mimetype": "text/x-python",
   "name": "python",
   "nbconvert_exporter": "python",
   "pygments_lexer": "ipython3",
   "version": "3.9.16"
  }
 },
 "nbformat": 4,
 "nbformat_minor": 5
}
