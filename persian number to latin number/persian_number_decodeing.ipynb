{
 "cells": [
  {
   "cell_type": "markdown",
   "id": "478bdfbb",
   "metadata": {},
   "source": [
    "This python adaptive to price str to enghish encode.\n",
    "'۳,۰۱۸,۶۰۰' to ۳۰۱۸۶۰۰ then 3018600"
   ]
  },
  {
   "cell_type": "code",
   "execution_count": 2,
   "id": "abb2e28f",
   "metadata": {},
   "outputs": [],
   "source": [
    "from unidecode import unidecode"
   ]
  },
  {
   "cell_type": "code",
   "execution_count": 3,
   "id": "72bec2bd",
   "metadata": {},
   "outputs": [],
   "source": [
    "number = unidecode('۰۱۲۳۴۵۶۷۸۹')"
   ]
  },
  {
   "cell_type": "code",
   "execution_count": 4,
   "id": "421b2bcc",
   "metadata": {},
   "outputs": [
    {
     "data": {
      "text/plain": [
       "'0123456789'"
      ]
     },
     "execution_count": 4,
     "metadata": {},
     "output_type": "execute_result"
    }
   ],
   "source": [
    "number"
   ]
  },
  {
   "cell_type": "code",
   "execution_count": 5,
   "id": "eb5956cf",
   "metadata": {},
   "outputs": [
    {
     "data": {
      "text/plain": [
       "123456789"
      ]
     },
     "execution_count": 5,
     "metadata": {},
     "output_type": "execute_result"
    }
   ],
   "source": [
    "int(number)"
   ]
  },
  {
   "cell_type": "code",
   "execution_count": 6,
   "id": "98410a31",
   "metadata": {},
   "outputs": [],
   "source": [
    "def numberdecode(number):\n",
    "    '''\n",
    "    Change persian number to latin nnumber \n",
    "    input :'۳,۰۱۸,۶۰۰' type>> str\n",
    "    output:3018600 type >> int\n",
    "    '''\n",
    "    number=number.replace(',','') ### replace ',' to '' so remove ',' from str\n",
    "    from unidecode import unidecode \n",
    "    return int(unidecode(number)) ### english number"
   ]
  },
  {
   "cell_type": "code",
   "execution_count": 38,
   "id": "bf0d1038",
   "metadata": {},
   "outputs": [],
   "source": [
    "price = numberdecode('۳,۰۱۸,۶۰۰')"
   ]
  },
  {
   "cell_type": "code",
   "execution_count": 39,
   "id": "93e5312a",
   "metadata": {},
   "outputs": [
    {
     "data": {
      "text/plain": [
       "3018600"
      ]
     },
     "execution_count": 39,
     "metadata": {},
     "output_type": "execute_result"
    }
   ],
   "source": [
    "price"
   ]
  }
 ],
 "metadata": {
  "kernelspec": {
   "display_name": "Python 3 (ipykernel)",
   "language": "python",
   "name": "python3"
  },
  "language_info": {
   "codemirror_mode": {
    "name": "ipython",
    "version": 3
   },
   "file_extension": ".py",
   "mimetype": "text/x-python",
   "name": "python",
   "nbconvert_exporter": "python",
   "pygments_lexer": "ipython3",
   "version": "3.9.16"
  }
 },
 "nbformat": 4,
 "nbformat_minor": 5
}
