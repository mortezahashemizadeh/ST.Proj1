{
 "cells": [
  {
   "cell_type": "code",
   "execution_count": 214,
   "id": "c48b662b",
   "metadata": {},
   "outputs": [],
   "source": [
    "\n",
    "from selenium import webdriver\n",
    "from selenium.webdriver.common.by import By\n",
    "from selenium.webdriver.common.action_chains import ActionChains\n",
    "import time"
   ]
  },
  {
   "cell_type": "code",
   "execution_count": 215,
   "id": "c4043cec",
   "metadata": {},
   "outputs": [],
   "source": [
    "path = 'chromedriver.exe'"
   ]
  },
  {
   "cell_type": "code",
   "execution_count": 216,
   "id": "bdbe55f8",
   "metadata": {},
   "outputs": [
    {
     "name": "stderr",
     "output_type": "stream",
     "text": [
      "C:\\Users\\MORTEZA\\AppData\\Local\\Temp\\ipykernel_15828\\2587595691.py:1: DeprecationWarning: executable_path has been deprecated, please pass in a Service object\n",
      "  driver = webdriver.Chrome(path)\n"
     ]
    }
   ],
   "source": [
    "driver = webdriver.Chrome(path)\n",
    "site=driver.get(\"https://www.digikala.com/search/?q=دوچرخه\")\n",
    "driver.maximize_window()"
   ]
  },
  {
   "cell_type": "code",
   "execution_count": null,
   "id": "46271905",
   "metadata": {},
   "outputs": [],
   "source": [
    "from selenium.webdriver.common.keys import Keys\n",
    "html = driver.find_element(By.TAG_NAME, 'html')\n",
    "while True:\n",
    "    for i in range (1):\n",
    "        html.send_keys(Keys.PAGE_DOWN)\n",
    "        time.sleep(1)\n",
    "    element = driver.find_elements(By.CSS_SELECTOR,'.product-list_ProductList__item__LiiNI')\n",
    "    if len(element) > 50 :\n",
    "        break"
   ]
  },
  {
   "cell_type": "code",
   "execution_count": 217,
   "id": "a8136267",
   "metadata": {},
   "outputs": [
    {
     "ename": "MoveTargetOutOfBoundsException",
     "evalue": "Message: move target out of bounds\n  (Session info: chrome=112.0.5615.87)\nStacktrace:\nBacktrace:\n\t(No symbol) [0x00B4DCE3]\n\t(No symbol) [0x00AE39D1]\n\t(No symbol) [0x009F4C70]\n\t(No symbol) [0x00A54558]\n\t(No symbol) [0x00A3AECC]\n\t(No symbol) [0x00A4D57C]\n\t(No symbol) [0x00A3ACC6]\n\t(No symbol) [0x00A16F68]\n\t(No symbol) [0x00A180CD]\n\tGetHandleVerifier [0x00DC3832+2506274]\n\tGetHandleVerifier [0x00DF9794+2727300]\n\tGetHandleVerifier [0x00DFE36C+2746716]\n\tGetHandleVerifier [0x00BF6690+617600]\n\t(No symbol) [0x00AEC712]\n\t(No symbol) [0x00AF1FF8]\n\t(No symbol) [0x00AF20DB]\n\t(No symbol) [0x00AFC63B]\n\tBaseThreadInitThunk [0x762600F9+25]\n\tRtlGetAppContainerNamedObjectPath [0x77387BBE+286]\n\tRtlGetAppContainerNamedObjectPath [0x77387B8E+238]\n",
     "output_type": "error",
     "traceback": [
      "\u001b[1;31m---------------------------------------------------------------------------\u001b[0m",
      "\u001b[1;31mMoveTargetOutOfBoundsException\u001b[0m            Traceback (most recent call last)",
      "Cell \u001b[1;32mIn[217], line 3\u001b[0m\n\u001b[0;32m      1\u001b[0m element\u001b[39m=\u001b[39mdriver\u001b[39m.\u001b[39mfind_elements(By\u001b[39m.\u001b[39mCSS_SELECTOR,\u001b[39m\"\u001b[39m\u001b[39m.product-list_ProductList__banner__Mxvqm\u001b[39m\u001b[39m\"\u001b[39m)\n\u001b[0;32m      2\u001b[0m \u001b[39mfor\u001b[39;00m i \u001b[39min\u001b[39;00m element[:\u001b[39m4\u001b[39m]:\n\u001b[1;32m----> 3\u001b[0m     ActionChains(driver)\u001b[39m.\u001b[39;49mmove_to_element(i)\u001b[39m.\u001b[39;49mperform()\n\u001b[0;32m      4\u001b[0m     element\u001b[39m=\u001b[39mdriver\u001b[39m.\u001b[39mfind_elements(By\u001b[39m.\u001b[39mCSS_SELECTOR,\u001b[39m\"\u001b[39m\u001b[39m.product-list_ProductList__banner__Mxvqm\u001b[39m\u001b[39m\"\u001b[39m)\n",
      "File \u001b[1;32m~\\AppData\\Local\\Packages\\PythonSoftwareFoundation.Python.3.10_qbz5n2kfra8p0\\LocalCache\\local-packages\\Python310\\site-packages\\selenium\\webdriver\\common\\action_chains.py:73\u001b[0m, in \u001b[0;36mActionChains.perform\u001b[1;34m(self)\u001b[0m\n\u001b[0;32m     71\u001b[0m \u001b[39mdef\u001b[39;00m \u001b[39mperform\u001b[39m(\u001b[39mself\u001b[39m):\n\u001b[0;32m     72\u001b[0m \u001b[39m    \u001b[39m\u001b[39m\"\"\"Performs all stored actions.\"\"\"\u001b[39;00m\n\u001b[1;32m---> 73\u001b[0m     \u001b[39mself\u001b[39;49m\u001b[39m.\u001b[39;49mw3c_actions\u001b[39m.\u001b[39;49mperform()\n",
      "File \u001b[1;32m~\\AppData\\Local\\Packages\\PythonSoftwareFoundation.Python.3.10_qbz5n2kfra8p0\\LocalCache\\local-packages\\Python310\\site-packages\\selenium\\webdriver\\common\\actions\\action_builder.py:91\u001b[0m, in \u001b[0;36mActionBuilder.perform\u001b[1;34m(self)\u001b[0m\n\u001b[0;32m     89\u001b[0m         enc[\u001b[39m\"\u001b[39m\u001b[39mactions\u001b[39m\u001b[39m\"\u001b[39m]\u001b[39m.\u001b[39mappend(encoded)\n\u001b[0;32m     90\u001b[0m         device\u001b[39m.\u001b[39mactions \u001b[39m=\u001b[39m []\n\u001b[1;32m---> 91\u001b[0m \u001b[39mself\u001b[39;49m\u001b[39m.\u001b[39;49mdriver\u001b[39m.\u001b[39;49mexecute(Command\u001b[39m.\u001b[39;49mW3C_ACTIONS, enc)\n",
      "File \u001b[1;32m~\\AppData\\Local\\Packages\\PythonSoftwareFoundation.Python.3.10_qbz5n2kfra8p0\\LocalCache\\local-packages\\Python310\\site-packages\\selenium\\webdriver\\remote\\webdriver.py:440\u001b[0m, in \u001b[0;36mWebDriver.execute\u001b[1;34m(self, driver_command, params)\u001b[0m\n\u001b[0;32m    438\u001b[0m response \u001b[39m=\u001b[39m \u001b[39mself\u001b[39m\u001b[39m.\u001b[39mcommand_executor\u001b[39m.\u001b[39mexecute(driver_command, params)\n\u001b[0;32m    439\u001b[0m \u001b[39mif\u001b[39;00m response:\n\u001b[1;32m--> 440\u001b[0m     \u001b[39mself\u001b[39;49m\u001b[39m.\u001b[39;49merror_handler\u001b[39m.\u001b[39;49mcheck_response(response)\n\u001b[0;32m    441\u001b[0m     response[\u001b[39m\"\u001b[39m\u001b[39mvalue\u001b[39m\u001b[39m\"\u001b[39m] \u001b[39m=\u001b[39m \u001b[39mself\u001b[39m\u001b[39m.\u001b[39m_unwrap_value(response\u001b[39m.\u001b[39mget(\u001b[39m\"\u001b[39m\u001b[39mvalue\u001b[39m\u001b[39m\"\u001b[39m, \u001b[39mNone\u001b[39;00m))\n\u001b[0;32m    442\u001b[0m     \u001b[39mreturn\u001b[39;00m response\n",
      "File \u001b[1;32m~\\AppData\\Local\\Packages\\PythonSoftwareFoundation.Python.3.10_qbz5n2kfra8p0\\LocalCache\\local-packages\\Python310\\site-packages\\selenium\\webdriver\\remote\\errorhandler.py:245\u001b[0m, in \u001b[0;36mErrorHandler.check_response\u001b[1;34m(self, response)\u001b[0m\n\u001b[0;32m    243\u001b[0m         alert_text \u001b[39m=\u001b[39m value[\u001b[39m\"\u001b[39m\u001b[39malert\u001b[39m\u001b[39m\"\u001b[39m]\u001b[39m.\u001b[39mget(\u001b[39m\"\u001b[39m\u001b[39mtext\u001b[39m\u001b[39m\"\u001b[39m)\n\u001b[0;32m    244\u001b[0m     \u001b[39mraise\u001b[39;00m exception_class(message, screen, stacktrace, alert_text)  \u001b[39m# type: ignore[call-arg]  # mypy is not smart enough here\u001b[39;00m\n\u001b[1;32m--> 245\u001b[0m \u001b[39mraise\u001b[39;00m exception_class(message, screen, stacktrace)\n",
      "\u001b[1;31mMoveTargetOutOfBoundsException\u001b[0m: Message: move target out of bounds\n  (Session info: chrome=112.0.5615.87)\nStacktrace:\nBacktrace:\n\t(No symbol) [0x00B4DCE3]\n\t(No symbol) [0x00AE39D1]\n\t(No symbol) [0x009F4C70]\n\t(No symbol) [0x00A54558]\n\t(No symbol) [0x00A3AECC]\n\t(No symbol) [0x00A4D57C]\n\t(No symbol) [0x00A3ACC6]\n\t(No symbol) [0x00A16F68]\n\t(No symbol) [0x00A180CD]\n\tGetHandleVerifier [0x00DC3832+2506274]\n\tGetHandleVerifier [0x00DF9794+2727300]\n\tGetHandleVerifier [0x00DFE36C+2746716]\n\tGetHandleVerifier [0x00BF6690+617600]\n\t(No symbol) [0x00AEC712]\n\t(No symbol) [0x00AF1FF8]\n\t(No symbol) [0x00AF20DB]\n\t(No symbol) [0x00AFC63B]\n\tBaseThreadInitThunk [0x762600F9+25]\n\tRtlGetAppContainerNamedObjectPath [0x77387BBE+286]\n\tRtlGetAppContainerNamedObjectPath [0x77387B8E+238]\n"
     ]
    }
   ],
   "source": [
    "element=driver.find_elements(By.CSS_SELECTOR,\".product-list_ProductList__banner__Mxvqm\")\n",
    "for i in element[:4]:\n",
    "    ActionChains(driver).move_to_element(i).perform()\n",
    "    element=driver.find_elements(By.CSS_SELECTOR,\".product-list_ProductList__banner__Mxvqm\")\n"
   ]
  },
  {
   "cell_type": "markdown",
   "id": "52f2f89f",
   "metadata": {},
   "source": []
  },
  {
   "cell_type": "code",
   "execution_count": 218,
   "id": "23aab756",
   "metadata": {},
   "outputs": [],
   "source": [
    "element = driver.find_elements(By.CSS_SELECTOR,'.product-list_ProductList__item__LiiNI')"
   ]
  },
  {
   "cell_type": "code",
   "execution_count": 219,
   "id": "5b071736",
   "metadata": {},
   "outputs": [
    {
     "data": {
      "text/plain": [
       "[<selenium.webdriver.remote.webelement.WebElement (session=\"b25e0dcfa3ad99d65fc46dadbf8cbf4b\", element=\"decaf48f-2ede-4451-9c7f-97ed24e9e3ec\")>,\n",
       " <selenium.webdriver.remote.webelement.WebElement (session=\"b25e0dcfa3ad99d65fc46dadbf8cbf4b\", element=\"10e8be20-45db-4f18-95be-c23634acf935\")>,\n",
       " <selenium.webdriver.remote.webelement.WebElement (session=\"b25e0dcfa3ad99d65fc46dadbf8cbf4b\", element=\"34517be2-d805-4bf6-b747-42fbcf9e7c26\")>,\n",
       " <selenium.webdriver.remote.webelement.WebElement (session=\"b25e0dcfa3ad99d65fc46dadbf8cbf4b\", element=\"4e46a213-5f74-4d22-bc84-e26b2923c4bd\")>,\n",
       " <selenium.webdriver.remote.webelement.WebElement (session=\"b25e0dcfa3ad99d65fc46dadbf8cbf4b\", element=\"0fde9bd7-9d38-4984-8b39-41d189b97c1b\")>,\n",
       " <selenium.webdriver.remote.webelement.WebElement (session=\"b25e0dcfa3ad99d65fc46dadbf8cbf4b\", element=\"2410a00f-ff18-43e8-8a53-f60eb429b4f0\")>,\n",
       " <selenium.webdriver.remote.webelement.WebElement (session=\"b25e0dcfa3ad99d65fc46dadbf8cbf4b\", element=\"f6fce1c9-e8d0-4265-85f1-ad094688d916\")>,\n",
       " <selenium.webdriver.remote.webelement.WebElement (session=\"b25e0dcfa3ad99d65fc46dadbf8cbf4b\", element=\"96c50ff0-91df-4938-9581-422d7cbc4dd6\")>,\n",
       " <selenium.webdriver.remote.webelement.WebElement (session=\"b25e0dcfa3ad99d65fc46dadbf8cbf4b\", element=\"c0b1133d-7b5f-40eb-a7fd-488f6568a02a\")>,\n",
       " <selenium.webdriver.remote.webelement.WebElement (session=\"b25e0dcfa3ad99d65fc46dadbf8cbf4b\", element=\"cc33dcce-05c7-488a-a8e8-80820a6e25ed\")>,\n",
       " <selenium.webdriver.remote.webelement.WebElement (session=\"b25e0dcfa3ad99d65fc46dadbf8cbf4b\", element=\"4274395b-fd14-4760-a81e-398052cead3c\")>,\n",
       " <selenium.webdriver.remote.webelement.WebElement (session=\"b25e0dcfa3ad99d65fc46dadbf8cbf4b\", element=\"563540d3-8ea6-4ab1-b70e-a04e38d5b173\")>,\n",
       " <selenium.webdriver.remote.webelement.WebElement (session=\"b25e0dcfa3ad99d65fc46dadbf8cbf4b\", element=\"1672e1fb-da51-49cf-a560-2bb9b583fd74\")>,\n",
       " <selenium.webdriver.remote.webelement.WebElement (session=\"b25e0dcfa3ad99d65fc46dadbf8cbf4b\", element=\"7666e64d-22d8-4f1f-a8b1-d3d2f39e7ec0\")>,\n",
       " <selenium.webdriver.remote.webelement.WebElement (session=\"b25e0dcfa3ad99d65fc46dadbf8cbf4b\", element=\"732184d1-1748-4b1d-ba47-47af998cf82d\")>,\n",
       " <selenium.webdriver.remote.webelement.WebElement (session=\"b25e0dcfa3ad99d65fc46dadbf8cbf4b\", element=\"b534b038-58da-4e06-8e01-2fc8ecd7a95c\")>,\n",
       " <selenium.webdriver.remote.webelement.WebElement (session=\"b25e0dcfa3ad99d65fc46dadbf8cbf4b\", element=\"11cbf0f9-fcfe-4243-961b-7771c16c323d\")>,\n",
       " <selenium.webdriver.remote.webelement.WebElement (session=\"b25e0dcfa3ad99d65fc46dadbf8cbf4b\", element=\"3ec49e0a-8602-4761-b7f5-35f89f6dadad\")>,\n",
       " <selenium.webdriver.remote.webelement.WebElement (session=\"b25e0dcfa3ad99d65fc46dadbf8cbf4b\", element=\"11f18b21-a39e-45f1-9c3c-a5048c34167f\")>,\n",
       " <selenium.webdriver.remote.webelement.WebElement (session=\"b25e0dcfa3ad99d65fc46dadbf8cbf4b\", element=\"597d4b0a-fb3e-44d3-8b7c-339b08d2feae\")>]"
      ]
     },
     "execution_count": 219,
     "metadata": {},
     "output_type": "execute_result"
    }
   ],
   "source": [
    "element"
   ]
  },
  {
   "cell_type": "code",
   "execution_count": 220,
   "id": "ac0a97ad",
   "metadata": {},
   "outputs": [
    {
     "data": {
      "text/plain": [
       "20"
      ]
     },
     "execution_count": 220,
     "metadata": {},
     "output_type": "execute_result"
    }
   ],
   "source": [
    "len(element)"
   ]
  },
  {
   "cell_type": "code",
   "execution_count": null,
   "id": "75983d41",
   "metadata": {
    "scrolled": true
   },
   "outputs": [],
   "source": [
    "data=list()\n",
    "for i in element:\n",
    "    datadic=dict()\n",
    "    index=i.get_attribute('data-product-index')\n",
    "    title=i.find_element(By.TAG_NAME,'a')\n",
    "    title1 = title.find_element(By.TAG_NAME,'h3')\n",
    "    name = title1.get_attribute('innerHTML')\n",
    "    datadic['index']=index\n",
    "    datadic['name']=name\n",
    "    data.append(datadic)"
   ]
  },
  {
   "cell_type": "code",
   "execution_count": null,
   "id": "42d1d8a0",
   "metadata": {},
   "outputs": [],
   "source": [
    "data"
   ]
  },
  {
   "cell_type": "code",
   "execution_count": null,
   "id": "566dcfd7",
   "metadata": {},
   "outputs": [],
   "source": [
    "import csv\n",
    "csv_columns = ['index','name']\n",
    "csv_file = \"Names.csv \"\n",
    "with open(csv_file, 'w', encoding='utf-8-sig') as csvfile:\n",
    "    writer = csv.DictWriter(csvfile, fieldnames=csv_columns)\n",
    "    writer.writeheader()\n",
    "    for i in data:\n",
    "            writer.writerow(i)"
   ]
  },
  {
   "cell_type": "code",
   "execution_count": null,
   "id": "6949bc8b",
   "metadata": {},
   "outputs": [],
   "source": [
    "import pandas as pd"
   ]
  },
  {
   "cell_type": "code",
   "execution_count": null,
   "id": "5abc4d50",
   "metadata": {},
   "outputs": [],
   "source": [
    "df = pd.read_csv(\"Names.csv\")"
   ]
  },
  {
   "cell_type": "code",
   "execution_count": null,
   "id": "5174e48d",
   "metadata": {},
   "outputs": [],
   "source": [
    "df.head()"
   ]
  },
  {
   "cell_type": "code",
   "execution_count": null,
   "id": "476ff406",
   "metadata": {},
   "outputs": [],
   "source": []
  },
  {
   "cell_type": "code",
   "execution_count": null,
   "id": "daa03887",
   "metadata": {},
   "outputs": [],
   "source": []
  },
  {
   "cell_type": "code",
   "execution_count": null,
   "id": "325f2046",
   "metadata": {},
   "outputs": [],
   "source": [
    "with open('fname', \"w+\", encoding=\"utf-8\") as f:\n",
    "    f.write()"
   ]
  },
  {
   "cell_type": "code",
   "execution_count": null,
   "id": "b0e647b6",
   "metadata": {},
   "outputs": [],
   "source": []
  }
 ],
 "metadata": {
  "kernelspec": {
   "display_name": "Python 3 (ipykernel)",
   "language": "python",
   "name": "python3"
  },
  "language_info": {
   "codemirror_mode": {
    "name": "ipython",
    "version": 3
   },
   "file_extension": ".py",
   "mimetype": "text/x-python",
   "name": "python",
   "nbconvert_exporter": "python",
   "pygments_lexer": "ipython3",
   "version": "3.10.10"
  }
 },
 "nbformat": 4,
 "nbformat_minor": 5
}
