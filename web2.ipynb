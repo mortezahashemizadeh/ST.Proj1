{
 "cells": [
  {
   "cell_type": "code",
   "execution_count": 34,
   "id": "c48b662b",
   "metadata": {},
   "outputs": [],
   "source": [
    "\n",
    "from selenium import webdriver\n",
    "from selenium.webdriver.common.by import By\n",
    "from selenium.webdriver.common.action_chains import ActionChains\n",
    "import time"
   ]
  },
  {
   "cell_type": "code",
   "execution_count": 35,
   "id": "c4043cec",
   "metadata": {},
   "outputs": [],
   "source": [
    "path = 'chromedriver.exe'"
   ]
  },
  {
   "cell_type": "code",
   "execution_count": 36,
   "id": "bdbe55f8",
   "metadata": {},
   "outputs": [
    {
     "name": "stderr",
     "output_type": "stream",
     "text": [
      "C:\\Users\\MORTEZA\\AppData\\Local\\Temp\\ipykernel_8128\\2587595691.py:1: DeprecationWarning: executable_path has been deprecated, please pass in a Service object\n",
      "  driver = webdriver.Chrome(path)\n"
     ]
    }
   ],
   "source": [
    "driver = webdriver.Chrome(path)\n",
    "site=driver.get(\"https://www.digikala.com/search/?q=دوچرخه\")\n",
    "driver.maximize_window()"
   ]
  },
  {
   "cell_type": "code",
   "execution_count": null,
   "id": "46271905",
   "metadata": {},
   "outputs": [],
   "source": [
    "from selenium.webdriver.common.keys import Keys\n",
    "html = driver.find_element(By.TAG_NAME, 'html')\n",
    "while True:\n",
    "    for i in range (1):\n",
    "        html.send_keys(Keys.PAGE_DOWN)\n",
    "        time.sleep(1)\n",
    "    element = driver.find_elements(By.CSS_SELECTOR,'.product-list_ProductList__item__LiiNI')\n",
    "    if len(element) > 50 :\n",
    "        break"
   ]
  },
  {
   "cell_type": "code",
   "execution_count": 37,
   "id": "a8136267",
   "metadata": {},
   "outputs": [],
   "source": [
    "element=driver.find_elements(By.CSS_SELECTOR,\".w-full.bg-000.border-t.border-n-200.pt-8.mt-12\")\n",
    "#ActionChains(driver).move_to_element(element).perform()\n",
    "# for i in element[:4]:\n",
    "#    \n",
    "#    element=driver.find_elements(By.CSS_SELECTOR,\".product-list_ProductList__banner__Mxvqm\")\n"
   ]
  },
  {
   "cell_type": "code",
   "execution_count": 38,
   "id": "392aef69",
   "metadata": {},
   "outputs": [
    {
     "ename": "AttributeError",
     "evalue": "move_to requires a WebElement",
     "output_type": "error",
     "traceback": [
      "\u001b[1;31m---------------------------------------------------------------------------\u001b[0m",
      "\u001b[1;31mAttributeError\u001b[0m                            Traceback (most recent call last)",
      "Cell \u001b[1;32mIn[38], line 2\u001b[0m\n\u001b[0;32m      1\u001b[0m actions \u001b[39m=\u001b[39m ActionChains(driver)\n\u001b[1;32m----> 2\u001b[0m actions\u001b[39m.\u001b[39;49mmove_to_element(element)\u001b[39m.\u001b[39mperform()\n",
      "File \u001b[1;32m~\\AppData\\Local\\Packages\\PythonSoftwareFoundation.Python.3.10_qbz5n2kfra8p0\\LocalCache\\local-packages\\Python310\\site-packages\\selenium\\webdriver\\common\\action_chains.py:232\u001b[0m, in \u001b[0;36mActionChains.move_to_element\u001b[1;34m(self, to_element)\u001b[0m\n\u001b[0;32m    225\u001b[0m \u001b[39mdef\u001b[39;00m \u001b[39mmove_to_element\u001b[39m(\u001b[39mself\u001b[39m, to_element):\n\u001b[0;32m    226\u001b[0m \u001b[39m    \u001b[39m\u001b[39m\"\"\"Moving the mouse to the middle of an element.\u001b[39;00m\n\u001b[0;32m    227\u001b[0m \n\u001b[0;32m    228\u001b[0m \u001b[39m    :Args:\u001b[39;00m\n\u001b[0;32m    229\u001b[0m \u001b[39m     - to_element: The WebElement to move to.\u001b[39;00m\n\u001b[0;32m    230\u001b[0m \u001b[39m    \"\"\"\u001b[39;00m\n\u001b[1;32m--> 232\u001b[0m     \u001b[39mself\u001b[39;49m\u001b[39m.\u001b[39;49mw3c_actions\u001b[39m.\u001b[39;49mpointer_action\u001b[39m.\u001b[39;49mmove_to(to_element)\n\u001b[0;32m    233\u001b[0m     \u001b[39mself\u001b[39m\u001b[39m.\u001b[39mw3c_actions\u001b[39m.\u001b[39mkey_action\u001b[39m.\u001b[39mpause()\n\u001b[0;32m    235\u001b[0m     \u001b[39mreturn\u001b[39;00m \u001b[39mself\u001b[39m\n",
      "File \u001b[1;32m~\\AppData\\Local\\Packages\\PythonSoftwareFoundation.Python.3.10_qbz5n2kfra8p0\\LocalCache\\local-packages\\Python310\\site-packages\\selenium\\webdriver\\common\\actions\\pointer_actions.py:87\u001b[0m, in \u001b[0;36mPointerActions.move_to\u001b[1;34m(self, element, x, y, width, height, pressure, tangential_pressure, tilt_x, tilt_y, twist, altitude_angle, azimuth_angle)\u001b[0m\n\u001b[0;32m     71\u001b[0m \u001b[39mdef\u001b[39;00m \u001b[39mmove_to\u001b[39m(\n\u001b[0;32m     72\u001b[0m     \u001b[39mself\u001b[39m,\n\u001b[0;32m     73\u001b[0m     element,\n\u001b[1;32m   (...)\u001b[0m\n\u001b[0;32m     84\u001b[0m     azimuth_angle\u001b[39m=\u001b[39m\u001b[39mNone\u001b[39;00m,\n\u001b[0;32m     85\u001b[0m ):\n\u001b[0;32m     86\u001b[0m     \u001b[39mif\u001b[39;00m \u001b[39mnot\u001b[39;00m \u001b[39misinstance\u001b[39m(element, WebElement):\n\u001b[1;32m---> 87\u001b[0m         \u001b[39mraise\u001b[39;00m \u001b[39mAttributeError\u001b[39;00m(\u001b[39m\"\u001b[39m\u001b[39mmove_to requires a WebElement\u001b[39m\u001b[39m\"\u001b[39m)\n\u001b[0;32m     89\u001b[0m     \u001b[39mself\u001b[39m\u001b[39m.\u001b[39msource\u001b[39m.\u001b[39mcreate_pointer_move(\n\u001b[0;32m     90\u001b[0m         origin\u001b[39m=\u001b[39melement,\n\u001b[0;32m     91\u001b[0m         duration\u001b[39m=\u001b[39m\u001b[39mself\u001b[39m\u001b[39m.\u001b[39m_duration,\n\u001b[1;32m   (...)\u001b[0m\n\u001b[0;32m    102\u001b[0m         azimuth_angle\u001b[39m=\u001b[39mazimuth_angle,\n\u001b[0;32m    103\u001b[0m     )\n\u001b[0;32m    104\u001b[0m     \u001b[39mreturn\u001b[39;00m \u001b[39mself\u001b[39m\n",
      "\u001b[1;31mAttributeError\u001b[0m: move_to requires a WebElement"
     ]
    }
   ],
   "source": [
    "actions = ActionChains(driver)\n",
    "actions.move_to_element(element).perform()"
   ]
  },
  {
   "cell_type": "code",
   "execution_count": null,
   "id": "23aab756",
   "metadata": {},
   "outputs": [],
   "source": [
    "element = driver.find_elements(By.CSS_SELECTOR,'.product-list_ProductList__item__LiiNI')"
   ]
  },
  {
   "cell_type": "code",
   "execution_count": null,
   "id": "5b071736",
   "metadata": {},
   "outputs": [],
   "source": [
    "element"
   ]
  },
  {
   "cell_type": "code",
   "execution_count": null,
   "id": "ac0a97ad",
   "metadata": {},
   "outputs": [],
   "source": [
    "len(element)"
   ]
  },
  {
   "cell_type": "code",
   "execution_count": null,
   "id": "aed8a23c",
   "metadata": {},
   "outputs": [],
   "source": []
  },
  {
   "cell_type": "code",
   "execution_count": null,
   "id": "20651627",
   "metadata": {},
   "outputs": [],
   "source": []
  },
  {
   "cell_type": "code",
   "execution_count": null,
   "id": "eaaa5d16",
   "metadata": {},
   "outputs": [],
   "source": []
  },
  {
   "cell_type": "code",
   "execution_count": null,
   "id": "75983d41",
   "metadata": {
    "scrolled": true
   },
   "outputs": [],
   "source": [
    "data=list()\n",
    "for i in element:\n",
    "    datadic=dict()\n",
    "    index=i.get_attribute('data-product-index')\n",
    "    title=i.find_element(By.TAG_NAME,'a')\n",
    "    title1 = title.find_element(By.TAG_NAME,'h3')\n",
    "    name = title1.get_attribute('innerHTML')\n",
    "    datadic['index']=index\n",
    "    datadic['name']=name\n",
    "    data.append(datadic)"
   ]
  },
  {
   "cell_type": "code",
   "execution_count": null,
   "id": "42d1d8a0",
   "metadata": {},
   "outputs": [],
   "source": [
    "data"
   ]
  },
  {
   "cell_type": "code",
   "execution_count": null,
   "id": "566dcfd7",
   "metadata": {},
   "outputs": [],
   "source": [
    "import csv\n",
    "csv_columns = ['index','name']\n",
    "csv_file = \"Names.csv \"\n",
    "with open(csv_file, 'w', encoding='utf-8-sig') as csvfile:\n",
    "    writer = csv.DictWriter(csvfile, fieldnames=csv_columns)\n",
    "    writer.writeheader()\n",
    "    for i in data:\n",
    "            writer.writerow(i)"
   ]
  },
  {
   "cell_type": "code",
   "execution_count": null,
   "id": "6949bc8b",
   "metadata": {},
   "outputs": [],
   "source": [
    "import pandas as pd"
   ]
  },
  {
   "cell_type": "code",
   "execution_count": null,
   "id": "5abc4d50",
   "metadata": {},
   "outputs": [],
   "source": [
    "df = pd.read_csv(\"Names.csv\")"
   ]
  },
  {
   "cell_type": "code",
   "execution_count": null,
   "id": "5174e48d",
   "metadata": {},
   "outputs": [],
   "source": [
    "df.head()"
   ]
  },
  {
   "cell_type": "code",
   "execution_count": null,
   "id": "476ff406",
   "metadata": {},
   "outputs": [],
   "source": []
  },
  {
   "cell_type": "code",
   "execution_count": null,
   "id": "daa03887",
   "metadata": {},
   "outputs": [],
   "source": []
  },
  {
   "cell_type": "code",
   "execution_count": null,
   "id": "325f2046",
   "metadata": {},
   "outputs": [],
   "source": [
    "with open('fname', \"w+\", encoding=\"utf-8\") as f:\n",
    "    f.write()"
   ]
  },
  {
   "cell_type": "code",
   "execution_count": null,
   "id": "b0e647b6",
   "metadata": {},
   "outputs": [],
   "source": []
  }
 ],
 "metadata": {
  "kernelspec": {
   "display_name": "Python 3 (ipykernel)",
   "language": "python",
   "name": "python3"
  },
  "language_info": {
   "codemirror_mode": {
    "name": "ipython",
    "version": 3
   },
   "file_extension": ".py",
   "mimetype": "text/x-python",
   "name": "python",
   "nbconvert_exporter": "python",
   "pygments_lexer": "ipython3",
   "version": "3.10.10"
  }
 },
 "nbformat": 4,
 "nbformat_minor": 5
}
